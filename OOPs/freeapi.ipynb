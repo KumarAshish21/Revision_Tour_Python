{
 "cells": [
  {
   "cell_type": "code",
   "execution_count": 14,
   "id": "baf0f808",
   "metadata": {},
   "outputs": [
    {
     "name": "stdout",
     "output_type": "stream",
     "text": [
      "Username: angrysnake222 \n",
      "Country: Ireland\n"
     ]
    }
   ],
   "source": [
    "import requests\n",
    "def fetch_random_user_freeapi():\n",
    "    url = \"https://api.freeapi.app/api/v1/public/randomusers/user/random\"\n",
    "    response = requests.get(url)\n",
    "    data=response.json()\n",
    "    \n",
    "    if data[\"success\"] and \"data\" in data:\n",
    "        user_data = data[\"data\"]\n",
    "        username =user_data[\"login\"][\"username\"]\n",
    "        country = user_data[\"location\"][\"country\"]\n",
    "        \n",
    "        return username, country\n",
    "    else:\n",
    "        raise Exception(\"Faild to fetch user data\")\n",
    "def main():\n",
    "    try:\n",
    "        username,country = fetch_random_user_freeapi()\n",
    "        print(f\"Username: {username} \\nCountry: {country}\")\n",
    "    except Exception as e:\n",
    "        print(str(e))\n",
    "\n",
    "if __name__ == \"__main__\":\n",
    "    main()        "
   ]
  },
  {
   "cell_type": "code",
   "execution_count": null,
   "id": "e9b0c69f",
   "metadata": {},
   "outputs": [],
   "source": []
  },
  {
   "cell_type": "code",
   "execution_count": null,
   "id": "f06c2355",
   "metadata": {},
   "outputs": [],
   "source": []
  },
  {
   "cell_type": "code",
   "execution_count": null,
   "id": "f246a83e",
   "metadata": {},
   "outputs": [],
   "source": []
  },
  {
   "cell_type": "code",
   "execution_count": null,
   "id": "46547f30",
   "metadata": {},
   "outputs": [],
   "source": []
  },
  {
   "cell_type": "code",
   "execution_count": null,
   "id": "e469831b",
   "metadata": {},
   "outputs": [],
   "source": []
  },
  {
   "cell_type": "code",
   "execution_count": null,
   "id": "7b811fc0",
   "metadata": {},
   "outputs": [],
   "source": []
  }
 ],
 "metadata": {
  "kernelspec": {
   "display_name": "Python 3 (ipykernel)",
   "language": "python",
   "name": "python3"
  },
  "language_info": {
   "codemirror_mode": {
    "name": "ipython",
    "version": 3
   },
   "file_extension": ".py",
   "mimetype": "text/x-python",
   "name": "python",
   "nbconvert_exporter": "python",
   "pygments_lexer": "ipython3",
   "version": "3.11.5"
  }
 },
 "nbformat": 4,
 "nbformat_minor": 5
}
