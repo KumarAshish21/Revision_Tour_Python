{
 "cells": [
  {
   "cell_type": "code",
   "execution_count": 2,
   "id": "58a5d9ab",
   "metadata": {},
   "outputs": [],
   "source": [
    "import requests"
   ]
  },
  {
   "cell_type": "code",
   "execution_count": 7,
   "id": "e8e458af",
   "metadata": {},
   "outputs": [],
   "source": [
    "def fetch_random_user_freeapi():\n",
    "    url = \"https://api.freeapi.app/api/v1/public/randomusers/user/random\"\n",
    "    response = requests.get(url)\n",
    "    data=response.json\n",
    "    \n",
    "    if data[\"success\"] and \"data\" in data:\n",
    "        user_data = data[\"data\"]\n",
    "        username =user_data[\"login\"][\"username\"]\n",
    "        country = user_data[\"location\"][\"country\"]\n",
    "        \n",
    "        return username, country\n",
    "    else:\n",
    "        raise Exception(\"Faild to fetch user data\")\n",
    "    "
   ]
  },
  {
   "cell_type": "code",
   "execution_count": 8,
   "id": "4d209143",
   "metadata": {},
   "outputs": [
    {
     "ename": "NameError",
     "evalue": "name 'response' is not defined",
     "output_type": "error",
     "traceback": [
      "\u001b[0;31m---------------------------------------------------------------------------\u001b[0m",
      "\u001b[0;31mNameError\u001b[0m                                 Traceback (most recent call last)",
      "Cell \u001b[0;32mIn[8], line 1\u001b[0m\n\u001b[0;32m----> 1\u001b[0m response\n",
      "\u001b[0;31mNameError\u001b[0m: name 'response' is not defined"
     ]
    }
   ],
   "source": [
    "def main():\n",
    "    try:\n",
    "        username,country = fetch_random_user_freeapi()\n",
    "        print(f\"Username: {username} \\nCountry: {country}\")\n",
    "    except Exception as e:\n",
    "        print(str(e))\n",
    "\n",
    "if __name__ == \"__main__\":\n",
    "    main()"
   ]
  },
  {
   "cell_type": "code",
   "execution_count": null,
   "id": "1c62f40c",
   "metadata": {},
   "outputs": [],
   "source": []
  },
  {
   "cell_type": "code",
   "execution_count": null,
   "id": "acf264cb",
   "metadata": {},
   "outputs": [],
   "source": []
  },
  {
   "cell_type": "code",
   "execution_count": null,
   "id": "031c83de",
   "metadata": {},
   "outputs": [],
   "source": []
  },
  {
   "cell_type": "code",
   "execution_count": null,
   "id": "146f05cd",
   "metadata": {},
   "outputs": [],
   "source": []
  },
  {
   "cell_type": "code",
   "execution_count": null,
   "id": "fdd1f942",
   "metadata": {},
   "outputs": [],
   "source": []
  }
 ],
 "metadata": {
  "kernelspec": {
   "display_name": "Python 3 (ipykernel)",
   "language": "python",
   "name": "python3"
  },
  "language_info": {
   "codemirror_mode": {
    "name": "ipython",
    "version": 3
   },
   "file_extension": ".py",
   "mimetype": "text/x-python",
   "name": "python",
   "nbconvert_exporter": "python",
   "pygments_lexer": "ipython3",
   "version": "3.11.5"
  }
 },
 "nbformat": 4,
 "nbformat_minor": 5
}
